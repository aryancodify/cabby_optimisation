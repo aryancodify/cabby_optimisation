{
 "cells": [
  {
   "cell_type": "markdown",
   "metadata": {},
   "source": [
    "### Cab-Driver Agent"
   ]
  },
  {
   "cell_type": "code",
   "execution_count": 1,
   "metadata": {},
   "outputs": [
    {
     "name": "stderr",
     "output_type": "stream",
     "text": [
      "C:\\Users\\Admin\\Anaconda3\\lib\\site-packages\\h5py\\__init__.py:36: FutureWarning: Conversion of the second argument of issubdtype from `float` to `np.floating` is deprecated. In future, it will be treated as `np.float64 == np.dtype(float).type`.\n",
      "  from ._conv import register_converters as _register_converters\n",
      "Using TensorFlow backend.\n"
     ]
    }
   ],
   "source": [
    "# Importing libraries\n",
    "import numpy as np\n",
    "import random\n",
    "import math\n",
    "from collections import deque\n",
    "import collections\n",
    "import pickle\n",
    "import time\n",
    "\n",
    "# for building DQN model\n",
    "from keras import layers\n",
    "from keras import Sequential\n",
    "from keras.layers import Dense, Activation, Flatten\n",
    "from keras.optimizers import Adam\n",
    "\n",
    "# for plotting graphs\n",
    "import matplotlib.pyplot as plt\n",
    "\n",
    "# Import the environment\n",
    "from Env import CabDriver"
   ]
  },
  {
   "cell_type": "markdown",
   "metadata": {},
   "source": [
    "#### Defining Time Matrix"
   ]
  },
  {
   "cell_type": "code",
   "execution_count": 2,
   "metadata": {},
   "outputs": [],
   "source": [
    "# Loading the time matrix provided\n",
    "Time_matrix = np.load(\"TM.npy\")"
   ]
  },
  {
   "cell_type": "code",
   "execution_count": 3,
   "metadata": {
    "scrolled": true
   },
   "outputs": [
    {
     "name": "stdout",
     "output_type": "stream",
     "text": [
      "<class 'numpy.ndarray'>\n",
      "11.0\n",
      "0.0\n",
      "3.0542857142857143\n",
      "7.93705306122449\n"
     ]
    }
   ],
   "source": [
    "print(type(Time_matrix))\n",
    "print(Time_matrix.max())\n",
    "print(Time_matrix.min())\n",
    "print(Time_matrix.mean())\n",
    "print(Time_matrix.var())"
   ]
  },
  {
   "cell_type": "code",
   "execution_count": 4,
   "metadata": {},
   "outputs": [],
   "source": [
    "States_track = collections.defaultdict(dict)\n",
    "Q_dict = collections.defaultdict(dict)"
   ]
  },
  {
   "cell_type": "code",
   "execution_count": 5,
   "metadata": {},
   "outputs": [],
   "source": [
    "def Q_state(state):\n",
    "    return '-'.join(str(e) for e in state)"
   ]
  },
  {
   "cell_type": "code",
   "execution_count": 6,
   "metadata": {},
   "outputs": [],
   "source": [
    "# Initialise states to be tracked\n",
    "def initialise_tracking_states():\n",
    "    sample_q_values = [([1,2,3],(1,3)),([3,5,6],(4,2)),([4,10,2],(3,4)), ([2,7,0],(0,4))]    #select any 4 Q-values\n",
    "    for q_values in sample_q_values:\n",
    "        state = Q_state(q_values[0])\n",
    "        action = q_values[1]\n",
    "        States_track[state][action] = [] "
   ]
  },
  {
   "cell_type": "code",
   "execution_count": 7,
   "metadata": {},
   "outputs": [],
   "source": [
    "def save_tracking_states():\n",
    "    \"\"\"Saves the states to dictionary\"\"\"\n",
    "    for state in States_track.keys():\n",
    "        for action in States_track[state].keys():\n",
    "            if state in Q_dict and action in Q_dict[state]:\n",
    "                States_track[state][action].append(Q_dict[state][action])"
   ]
  },
  {
   "cell_type": "code",
   "execution_count": 8,
   "metadata": {},
   "outputs": [],
   "source": [
    "initialise_tracking_states()"
   ]
  },
  {
   "cell_type": "code",
   "execution_count": 9,
   "metadata": {},
   "outputs": [
    {
     "name": "stdout",
     "output_type": "stream",
     "text": [
      "defaultdict(<class 'dict'>, {'1-2-3': {(1, 3): []}, '3-5-6': {(4, 2): []}, '4-10-2': {(3, 4): []}, '2-7-0': {(0, 4): []}})\n"
     ]
    }
   ],
   "source": [
    "print(States_track)"
   ]
  },
  {
   "cell_type": "code",
   "execution_count": 10,
   "metadata": {},
   "outputs": [],
   "source": [
    "#Defining a function to save the Q-dictionary as a pickle file\n",
    "def save_obj(obj, name ):\n",
    "    with open(name + '.pkl', 'wb') as f:\n",
    "        pickle.dump(obj, f, pickle.HIGHEST_PROTOCOL)"
   ]
  },
  {
   "cell_type": "markdown",
   "metadata": {},
   "source": [
    "#### Tracking the state-action pairs for checking convergence\n"
   ]
  },
  {
   "cell_type": "code",
   "execution_count": 11,
   "metadata": {},
   "outputs": [],
   "source": [
    "#Defining a function to save the Q-dictionary as a pickle file\n",
    "def save_obj(obj, name ):\n",
    "    with open(name + '.pkl', 'wb') as f:\n",
    "        pickle.dump(obj, f, pickle.HIGHEST_PROTOCOL)"
   ]
  },
  {
   "cell_type": "markdown",
   "metadata": {},
   "source": [
    "### Agent Class\n",
    "\n",
    "If you are using this framework, you need to fill the following to complete the following code block:\n",
    "1. State and Action Size\n",
    "2. Hyperparameters\n",
    "3. Create a neural-network model in function 'build_model()'\n",
    "4. Define epsilon-greedy strategy in function 'get_action()'\n",
    "5. Complete the function 'append_sample()'. This function appends the recent experience tuple <state, action, reward, new-state> to the memory\n",
    "6. Complete the 'train_model()' function with following logic:\n",
    "   - If the memory size is greater than mini-batch size, you randomly sample experiences from memory as per the mini-batch size and do the following:\n",
    "      - Initialise your input and output batch for training the model\n",
    "      - Calculate the target Q value for each sample: reward + gamma*max(Q(s'a,))\n",
    "      - Get Q(s', a) values from the last trained model\n",
    "      - Update the input batch as your encoded state and output batch as your Q-values\n",
    "      - Then fit your DQN model using the updated input and output batch."
   ]
  },
  {
   "cell_type": "code",
   "execution_count": 12,
   "metadata": {},
   "outputs": [],
   "source": [
    "class DQNAgent:\n",
    "    def __init__(self, state_size, action_size):\n",
    "        # Define size of state and action\n",
    "        self.state_size = state_size\n",
    "        self.action_size = action_size\n",
    "\n",
    "        # Write here: Specify you hyper parameters for the DQN\n",
    "        self.discount_factor = 0.95\n",
    "        self.learning_rate = 0.07\n",
    "        self.epsilon = 1\n",
    "        self.epsilon_max = 1\n",
    "        #self.epsilon_decay = 0.0003 #for 10k\n",
    "        self.epsilon_decay = 0.003 #for 1k\n",
    "        self.epsilon_min = 0.01\n",
    "        \n",
    "        self.batch_size = 32        # for 24*1\n",
    "        # create replay memory using deque\n",
    "        self.memory = deque(maxlen=2000)\n",
    "\n",
    "        # create main model and target model\n",
    "        self.model = self.build_model()\n",
    "\n",
    "    # approximate Q function using Neural Network\n",
    "    def build_model(self):\n",
    "        input_shape = self.state_size\n",
    "        model = Sequential()\n",
    "        # Write your code here: Add layers to your neural nets       \n",
    "        model.add(Dense(32, input_dim=self.state_size, activation='relu', kernel_initializer='he_uniform'))\n",
    "        model.add(Dense(32, activation='relu', kernel_initializer='he_uniform'))\n",
    "        # the output layer: output is of size num_actions\n",
    "        model.add(Dense(self.action_size, activation='relu', kernel_initializer='he_uniform'))\n",
    "        model.compile(loss='mse', optimizer=Adam(lr=self.learning_rate))\n",
    "        model.summary\n",
    "        return model\n",
    "\n",
    "\n",
    "\n",
    "    def get_action(self, state):\n",
    "        action_indices, action_list = env.requests(state)\n",
    "        #print(self.epsilon)\n",
    "        if np.random.rand() <= self.epsilon:\n",
    "            # explore: choose a random action from all possible actions\n",
    "            # in case of cartpole this will randomly choose an action between 0 and 1\n",
    "            #print('explore')\n",
    "            #if (len(action_indices) == 0):\n",
    "                #print(state)\n",
    "            action_index = random.randrange(len(action_indices))\n",
    "        else:\n",
    "            # choose the action with the highest q(s, a)\n",
    "            # the first index corresponds to the batch size, so\n",
    "            # reshape state to (1, state_size) so that the first index corresponds to the batch size\n",
    "            #state = state.reshape(1, self.state_size)\n",
    "            #print(env.state_encod_arch1(state).shape)\n",
    "            #state_input = np.zeros((1, self.state_size))\n",
    "            #state_input[0] = env.state_encod_arch1(state)\n",
    "            #print('Greedy')\n",
    "            #print(state_input[0].shape)\n",
    "            state = np.array(env.state_encod_arch1(state)).reshape(1, 36)\n",
    "            #print(state.shape)\n",
    "            #q_value = self.model.predict(state_input[0])\n",
    "            q_value = self.model.predict(state)\n",
    "            #print(q_value.shape)\n",
    "            #print(q_value)\n",
    "            q_value =[q_value[0][i] for i in action_indices]\n",
    "            action_index = np.argmax(q_value[0])\n",
    "            \n",
    "        #print(action_indices, action_index)\n",
    "        #print(len(action_indices))\n",
    "        #print(self.action_size)\n",
    "        return action_index, action_list[action_index]\n",
    "    # Write your code here:\n",
    "    # get action from model using epsilon-greedy policy\n",
    "    # Decay in ε after we generate each sample from the environment\n",
    "\n",
    "    def append_sample(self, state, action_index, reward, next_state, done):\n",
    "        self.memory.append((state, action_index, reward, next_state, done))\n",
    "    # Write your code here:\n",
    "    # save sample <s,a,r,s'> to the replay memory\n",
    "    \n",
    "    \n",
    "    \n",
    "    # pick samples randomly from replay memory (with batch_size) and train the network\n",
    "    def train_model(self):\n",
    "        \n",
    "        if len(self.memory) > self.batch_size:\n",
    "            # Sample batch from the memory\n",
    "            mini_batch = random.sample(self.memory, self.batch_size)\n",
    "            # initialise two matrices - update_input and update_output\n",
    "            update_input = np.zeros((self.batch_size, self.state_size))\n",
    "            update_output = np.zeros((self.batch_size, self.state_size))\n",
    "            actions, rewards, done = [], [], []\n",
    "\n",
    "            # populate update_input and update_output and the lists rewards, actions, done\n",
    "            for i in range(self.batch_size):\n",
    "                state, action, reward, next_state, done_boolean = mini_batch[i]\n",
    "                #print(state)\n",
    "                #if (i == 0):\n",
    "                    #print(type(update_input[i]))\n",
    "                    #print(update_input[i].shape)\n",
    "                    #print(type(state))\n",
    "                update_input[i] = env.state_encod_arch1(state)\n",
    "                actions.append(action)\n",
    "                rewards.append(reward)\n",
    "                update_output[i] = env.state_encod_arch1(next_state)\n",
    "                done.append(done_boolean)\n",
    "\n",
    "            # predict the target q-values from states s\n",
    "            target = self.model.predict(update_input)\n",
    "            #print(target[0])\n",
    "            # target for q-network\n",
    "            target_qval = self.model.predict(update_output)\n",
    "\n",
    "            # update the target values\n",
    "            for i in range(self.batch_size):\n",
    "                if done[i]:\n",
    "                    target[i][actions[i]] = rewards[i]\n",
    "                else: # non-terminal state\n",
    "                    target[i][actions[i]] = rewards[i] + self.discount_factor * np.max(target_qval[i])\n",
    "\n",
    "            # model fit\n",
    "            self.model.fit(update_input, target, batch_size=self.batch_size, epochs=1, verbose=0)\n",
    "\n",
    "    def save(self, name):\n",
    "        self.model.save(name)"
   ]
  },
  {
   "cell_type": "code",
   "execution_count": 13,
   "metadata": {},
   "outputs": [],
   "source": [
    "Episodes = 1"
   ]
  },
  {
   "cell_type": "markdown",
   "metadata": {},
   "source": [
    "### DQN block"
   ]
  },
  {
   "cell_type": "markdown",
   "metadata": {},
   "source": [
    "for episode in range(Episodes):\n",
    "\n",
    "    # Write code here\n",
    "    # Call the environment\n",
    "    # Call all the initialised variables of the environment\n",
    "    \n",
    "\n",
    "    #Call the DQN agent\n",
    "    \n",
    "    \n",
    "    while !terminal_state:\n",
    "        \n",
    "        # Write your code here\n",
    "        # 1. Pick epsilon-greedy action from possible actions for the current state\n",
    "        # 2. Evaluate your reward and next state\n",
    "        # 3. Append the experience to the memory\n",
    "        # 4. Train the model by calling function agent.train_model\n",
    "        # 5. Keep a track of rewards, Q-values, loss\n",
    "        "
   ]
  },
  {
   "cell_type": "code",
   "execution_count": 14,
   "metadata": {},
   "outputs": [],
   "source": [
    "state_size = 36\n",
    "action_size = 21\n",
    "episode_time = 24*30\n",
    "n_episodes = 1000\n",
    "m = 5\n",
    "t = 24\n",
    "d = 7\n",
    "env = CabDriver()\n",
    "agent = DQNAgent(action_size=action_size, state_size=state_size)\n",
    "\n",
    "\n",
    "# to store rewards in each episode\n",
    "rewards_per_episode, episodes = [], []"
   ]
  },
  {
   "cell_type": "code",
   "execution_count": 15,
   "metadata": {},
   "outputs": [
    {
     "name": "stdout",
     "output_type": "stream",
     "text": [
      "episode 0, reward -16.0, memory_length 142, epsilon 0.9999 total_time 721.0\n",
      "episode 10, reward -191.0, memory_length 1591, epsilon 0.9703484889951534 total_time 721.0\n",
      "episode 20, reward 88.0, memory_length 2000, epsilon 0.9416703571308903 total_time 722.0\n",
      "episode 30, reward -285.0, memory_length 2000, epsilon 0.9138397921527011 total_time 721.0\n",
      "episode 40, reward -45.0, memory_length 2000, epsilon 0.8868317446734858 total_time 721.0\n",
      "episode 50, reward -20.0, memory_length 2000, epsilon 0.8606219056274154 total_time 723.0\n",
      "episode 60, reward -43.0, memory_length 2000, epsilon 0.8351866843901309 total_time 723.0\n",
      "episode 70, reward 54.0, memory_length 2000, epsilon 0.81050318754559 total_time 724.0\n",
      "episode 80, reward -16.0, memory_length 2000, epsilon 0.7865491982804468 total_time 728.0\n",
      "episode 90, reward -140.0, memory_length 2000, epsilon 0.7633031563874195 total_time 724.0\n",
      "episode 100, reward -199.0, memory_length 2000, epsilon 0.7407441388596497 total_time 731.0\n",
      "episode 110, reward -110.0, memory_length 2000, epsilon 0.718851841058583 total_time 725.0\n",
      "episode 120, reward 312.0, memory_length 2000, epsilon 0.6976065584384239 total_time 727.0\n",
      "episode 130, reward 83.0, memory_length 2000, epsilon 0.6769891688107148 total_time 725.0\n",
      "episode 140, reward -102.0, memory_length 2000, epsilon 0.6569811151330752 total_time 721.0\n",
      "episode 150, reward -68.0, memory_length 2000, epsilon 0.6375643888066111 total_time 724.0\n",
      "episode 160, reward 188.0, memory_length 2000, epsilon 0.6187215134669602 total_time 725.0\n",
      "episode 170, reward -530.0, memory_length 2000, epsilon 0.6004355292543847 total_time 724.0\n",
      "episode 180, reward -313.0, memory_length 2000, epsilon 0.5826899775487523 total_time 726.0\n",
      "episode 190, reward 7.0, memory_length 2000, epsilon 0.5654688861556671 total_time 722.0\n",
      "episode 200, reward -83.0, memory_length 2000, epsilon 0.5487567549304171 total_time 722.0\n",
      "episode 210, reward 26.0, memory_length 2000, epsilon 0.5325385418267965 total_time 722.0\n",
      "episode 220, reward -349.0, memory_length 2000, epsilon 0.51679964935825 total_time 722.0\n",
      "episode 230, reward -214.0, memory_length 2000, epsilon 0.5015259114591488 total_time 724.0\n",
      "episode 240, reward -85.0, memory_length 2000, epsilon 0.4867035807343757 total_time 723.0\n",
      "episode 250, reward -99.0, memory_length 2000, epsilon 0.47231931608574057 total_time 722.0\n",
      "episode 260, reward 15.0, memory_length 2000, epsilon 0.458360170704093 total_time 730.0\n",
      "episode 270, reward 119.0, memory_length 2000, epsilon 0.4448135804163188 total_time 721.0\n",
      "episode 280, reward -376.0, memory_length 2000, epsilon 0.4316673523767368 total_time 722.0\n",
      "episode 290, reward -391.0, memory_length 2000, epsilon 0.41890965409271425 total_time 721.0\n",
      "episode 300, reward -120.0, memory_length 2000, epsilon 0.40652900277462506 total_time 726.0\n",
      "episode 310, reward -407.0, memory_length 2000, epsilon 0.3945142550005639 total_time 722.0\n",
      "episode 320, reward -469.0, memory_length 2000, epsilon 0.38285459668651456 total_time 722.0\n",
      "episode 330, reward 46.0, memory_length 2000, epsilon 0.3715395333529435 total_time 722.0\n",
      "episode 340, reward -39.0, memory_length 2000, epsilon 0.360558880679061 total_time 722.0\n",
      "episode 350, reward 243.0, memory_length 2000, epsilon 0.3499027553362442 total_time 725.0\n",
      "episode 360, reward -214.0, memory_length 2000, epsilon 0.33956156609237464 total_time 725.0\n",
      "episode 370, reward -126.0, memory_length 2000, epsilon 0.32952600517908154 total_time 727.0\n",
      "episode 380, reward 3.0, memory_length 2000, epsilon 0.3197870399141222 total_time 725.0\n",
      "episode 390, reward -74.0, memory_length 2000, epsilon 0.3103359045713585 total_time 721.0\n",
      "episode 400, reward 186.0, memory_length 2000, epsilon 0.3011640924910109 total_time 730.0\n",
      "episode 410, reward 304.0, memory_length 2000, epsilon 0.2922633484230913 total_time 722.0\n",
      "episode 420, reward -251.0, memory_length 2000, epsilon 0.2836256610971204 total_time 724.0\n",
      "episode 430, reward 67.0, memory_length 2000, epsilon 0.27524325601144334 total_time 724.0\n",
      "episode 440, reward -171.0, memory_length 2000, epsilon 0.26710858843565377 total_time 732.0\n",
      "episode 450, reward -51.0, memory_length 2000, epsilon 0.2592143366198269 total_time 729.0\n",
      "episode 460, reward 17.0, memory_length 2000, epsilon 0.25155339520445047 total_time 732.0\n",
      "episode 470, reward -121.0, memory_length 2000, epsilon 0.24411886882512177 total_time 724.0\n",
      "episode 480, reward 262.0, memory_length 2000, epsilon 0.23690406590625354 total_time 726.0\n",
      "episode 490, reward -1.0, memory_length 2000, epsilon 0.22990249263820517 total_time 731.0\n",
      "episode 500, reward -94.0, memory_length 2000, epsilon 0.22310784713241497 total_time 727.0\n",
      "episode 510, reward -84.0, memory_length 2000, epsilon 0.21651401374927548 total_time 722.0\n",
      "episode 520, reward -214.0, memory_length 2000, epsilon 0.21011505759364466 total_time 731.0\n",
      "episode 530, reward -28.0, memory_length 2000, epsilon 0.20390521917304 total_time 732.0\n",
      "episode 540, reward -62.0, memory_length 2000, epsilon 0.1978789092137063 total_time 725.0\n",
      "episode 550, reward -59.0, memory_length 2000, epsilon 0.192030703629892 total_time 723.0\n",
      "episode 560, reward 125.0, memory_length 2000, epsilon 0.18635533864180603 total_time 727.0\n",
      "episode 570, reward -42.0, memory_length 2000, epsilon 0.18084770603786038 total_time 727.0\n",
      "episode 580, reward 396.0, memory_length 2000, epsilon 0.17550284857693516 total_time 731.0\n",
      "episode 590, reward 3.0, memory_length 2000, epsilon 0.1703159555265269 total_time 724.0\n",
      "episode 600, reward -385.0, memory_length 2000, epsilon 0.16528235833276436 total_time 727.0\n",
      "episode 610, reward 25.0, memory_length 2000, epsilon 0.16039752641839522 total_time 724.0\n",
      "episode 620, reward 48.0, memory_length 2000, epsilon 0.1556570631049605 total_time 734.0\n",
      "episode 630, reward -199.0, memory_length 2000, epsilon 0.1510567016554872 total_time 729.0\n",
      "episode 640, reward -44.0, memory_length 2000, epsilon 0.14659230143413712 total_time 725.0\n",
      "episode 650, reward 21.0, memory_length 2000, epsilon 0.14225984417935494 total_time 724.0\n",
      "episode 660, reward 268.0, memory_length 2000, epsilon 0.13805543038716173 total_time 721.0\n",
      "episode 670, reward 25.0, memory_length 2000, epsilon 0.13397527580133806 total_time 733.0\n",
      "episode 680, reward -35.0, memory_length 2000, epsilon 0.13001570800733805 total_time 724.0\n",
      "episode 690, reward -96.0, memory_length 2000, epsilon 0.12617316312686827 total_time 723.0\n",
      "episode 700, reward -2.0, memory_length 2000, epsilon 0.1224441826101566 total_time 725.0\n",
      "episode 710, reward -48.0, memory_length 2000, epsilon 0.11882541012302442 total_time 721.0\n",
      "episode 720, reward -90.0, memory_length 2000, epsilon 0.11531358852595872 total_time 723.0\n",
      "episode 730, reward 45.0, memory_length 2000, epsilon 0.11190555694246715 total_time 728.0\n",
      "episode 740, reward 460.0, memory_length 2000, epsilon 0.10859824791407546 total_time 725.0\n",
      "episode 750, reward 362.0, memory_length 2000, epsilon 0.10538868463940815 total_time 723.0\n",
      "episode 760, reward 211.0, memory_length 2000, epsilon 0.10227397829486588 total_time 723.0\n",
      "episode 770, reward -92.0, memory_length 2000, epsilon 0.0992513254344897 total_time 721.0\n",
      "episode 780, reward 113.0, memory_length 2000, epsilon 0.09631800546666999 total_time 729.0\n",
      "episode 790, reward 48.0, memory_length 2000, epsilon 0.09347137820543067 total_time 726.0\n",
      "episode 800, reward 167.0, memory_length 2000, epsilon 0.09070888149408357 total_time 722.0\n",
      "episode 810, reward 195.0, memory_length 2000, epsilon 0.08802802889911432 total_time 729.0\n",
      "episode 820, reward 308.0, memory_length 2000, epsilon 0.0854264074722245 total_time 726.0\n",
      "episode 830, reward -153.0, memory_length 2000, epsilon 0.08290167557851515 total_time 726.0\n",
      "episode 840, reward -142.0, memory_length 2000, epsilon 0.08045156078885748 total_time 726.0\n",
      "episode 850, reward -300.0, memory_length 2000, epsilon 0.078073857834553 total_time 723.0\n",
      "episode 860, reward 93.0, memory_length 2000, epsilon 0.07576642662244319 total_time 736.0\n",
      "episode 870, reward 50.0, memory_length 2000, epsilon 0.0735271903086808 total_time 722.0\n",
      "episode 880, reward -216.0, memory_length 2000, epsilon 0.07135413342943042 total_time 723.0\n",
      "episode 890, reward -104.0, memory_length 2000, epsilon 0.06924530008681506 total_time 724.0\n"
     ]
    },
    {
     "name": "stdout",
     "output_type": "stream",
     "text": [
      "episode 900, reward 163.0, memory_length 2000, epsilon 0.06719879218847578 total_time 722.0\n",
      "episode 910, reward 79.0, memory_length 2000, epsilon 0.06521276773916071 total_time 732.0\n",
      "episode 920, reward -103.0, memory_length 2000, epsilon 0.06328543918280474 total_time 723.0\n",
      "episode 930, reward 79.0, memory_length 2000, epsilon 0.061415071793608625 total_time 722.0\n",
      "episode 940, reward -134.0, memory_length 2000, epsilon 0.05959998211466847 total_time 721.0\n",
      "episode 950, reward -128.0, memory_length 2000, epsilon 0.05783853644275097 total_time 724.0\n",
      "episode 960, reward -239.0, memory_length 2000, epsilon 0.056129149357850315 total_time 729.0\n",
      "episode 970, reward -229.0, memory_length 2000, epsilon 0.05447028229620294 total_time 728.0\n",
      "episode 980, reward 136.0, memory_length 2000, epsilon 0.052860442165476536 total_time 724.0\n",
      "episode 990, reward -337.0, memory_length 2000, epsilon 0.051298180000885915 total_time 726.0\n",
      "845.7595744132996\n"
     ]
    }
   ],
   "source": [
    "start_time = time.time()\n",
    "for episode in range(n_episodes):\n",
    "\n",
    "    done = False\n",
    "    score = 0\n",
    "\n",
    "    # reset at the start of each episode\n",
    "    env = CabDriver()\n",
    "    action_space, state_space, state = env.reset()\n",
    "    state_size = m+t+d\n",
    "    action_size = len(action_space)\n",
    "    #agent = DQNAgent(state_size, action_size)\n",
    "    #print(state)\n",
    "    total_time = 0\n",
    "    step_num = 0\n",
    "    while not done:\n",
    "        step_num = step_num + 1\n",
    "        #print(step_num)\n",
    "        # get action for the current state and take a step in the environment\n",
    "        action_index, action = agent.get_action(state)\n",
    "        reward, next_state, step_time = env.step(state, action, Time_matrix)\n",
    "        total_time += step_time\n",
    "        if (total_time > episode_time):\n",
    "            done = True\n",
    "        # save the sample <s, a, r, s', done> to the replay memory\n",
    "        agent.append_sample(state, action_index, reward, next_state, done)\n",
    "\n",
    "        # train after each step\n",
    "        agent.train_model()\n",
    "\n",
    "        # add reward to the total score of this episode\n",
    "        score += reward\n",
    "        state = next_state\n",
    "\n",
    "\n",
    "    # store total reward obtained in this episode\n",
    "    rewards_per_episode.append(score)\n",
    "    episodes.append(episode)\n",
    "\n",
    "    # epsilon decay\n",
    "    agent.epsilon = (1 - 0.0001) * np.exp(agent.epsilon_decay * episode * (-1))\n",
    "    #(1 - 0.0001) * np.exp(-0.003*i)\n",
    "    #if agent.epsilon > agent.epsilon_min:\n",
    "    #    agent.epsilon *= agent.epsilon_decay\n",
    "\n",
    "    # every episode:\n",
    "    if (episode % 10 == 0):\n",
    "        print(\"episode {0}, reward {1}, memory_length {2}, epsilon {3} total_time {4}\".format(episode,\n",
    "                                                                         score,\n",
    "                                                                         len(agent.memory),\n",
    "                                                                         agent.epsilon, total_time))\n",
    "elapsed_time = time.time() - start_time\n",
    "#save_obj(States_track,'States_tracked')   \n",
    "print(elapsed_time)\n",
    "    # every few episodes:\n",
    "        # store q-values of some prespecified state-action pairs\n",
    "        # q_dict = agent.store_q_values()\n",
    "\n",
    "        # save model weights\n",
    "        #agent.save_model_weights(name=\"model_weights.h5\")\n"
   ]
  },
  {
   "cell_type": "code",
   "execution_count": 16,
   "metadata": {},
   "outputs": [
    {
     "data": {
      "text/plain": [
       "2"
      ]
     },
     "execution_count": 16,
     "metadata": {},
     "output_type": "execute_result"
    }
   ],
   "source": [
    "env.state_get_loc(state)"
   ]
  },
  {
   "cell_type": "markdown",
   "metadata": {},
   "source": [
    "### Tracking Convergence"
   ]
  },
  {
   "cell_type": "code",
   "execution_count": null,
   "metadata": {},
   "outputs": [],
   "source": []
  },
  {
   "cell_type": "code",
   "execution_count": null,
   "metadata": {},
   "outputs": [],
   "source": []
  },
  {
   "cell_type": "code",
   "execution_count": null,
   "metadata": {},
   "outputs": [],
   "source": []
  },
  {
   "cell_type": "markdown",
   "metadata": {},
   "source": [
    "#### Epsilon-decay sample function"
   ]
  },
  {
   "cell_type": "markdown",
   "metadata": {},
   "source": [
    "<div class=\"alert alert-block alert-info\">\n",
    "Try building a similar epsilon-decay function for your model.\n",
    "</div>"
   ]
  },
  {
   "cell_type": "code",
   "execution_count": 17,
   "metadata": {},
   "outputs": [],
   "source": [
    "time = np.arange(0,10000)\n",
    "epsilon = []\n",
    "for i in range(0,10000):\n",
    "    epsilon.append(0 + (1 - 0) * np.exp(-0.0009*i))"
   ]
  },
  {
   "cell_type": "code",
   "execution_count": 18,
   "metadata": {},
   "outputs": [
    {
     "data": {
      "image/png": "[encoded data removed]",
      "text/plain": [
       "<matplotlib.figure.Figure at 0xf5bf780>"
      ]
     },
     "metadata": {},
     "output_type": "display_data"
    }
   ],
   "source": [
    "plt.plot(time, epsilon)\n",
    "plt.show()"
   ]
  },
  {
   "cell_type": "code",
   "execution_count": 19,
   "metadata": {},
   "outputs": [],
   "source": [
    "time = np.arange(0,1000)\n",
    "epsilon = []\n",
    "for i in range(0,1000):\n",
    "    epsilon.append(0 + (1 - 0.0001) * np.exp(-0.003*i))\n",
    "    z = np.random.random()"
   ]
  },
  {
   "cell_type": "code",
   "execution_count": 20,
   "metadata": {},
   "outputs": [
    {
     "data": {
      "image/png": "[encoded data removed]",
      "text/plain": [
       "<matplotlib.figure.Figure at 0xf6a35c0>"
      ]
     },
     "metadata": {},
     "output_type": "display_data"
    }
   ],
   "source": [
    "plt.plot(time, epsilon)\n",
    "plt.show()"
   ]
  },
  {
   "cell_type": "code",
   "execution_count": null,
   "metadata": {},
   "outputs": [],
   "source": []
  }
 ],
 "metadata": {
  "kernelspec": {
   "display_name": "Python 3",
   "language": "python",
   "name": "python3"
  },
  "language_info": {
   "codemirror_mode": {
    "name": "ipython",
    "version": 3
   },
   "file_extension": ".py",
   "mimetype": "text/x-python",
   "name": "python",
   "nbconvert_exporter": "python",
   "pygments_lexer": "ipython3",
   "version": "3.6.5"
  }
 },
 "nbformat": 4,
 "nbformat_minor": 2
}
